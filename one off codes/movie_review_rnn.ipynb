{
  "nbformat": 4,
  "nbformat_minor": 0,
  "metadata": {
    "colab": {
      "name": "movie_review_rnn.ipynb",
      "provenance": []
    },
    "kernelspec": {
      "name": "python3",
      "display_name": "Python 3"
    },
    "language_info": {
      "name": "python"
    }
  },
  "cells": [
    {
      "cell_type": "code",
      "metadata": {
        "colab": {
          "base_uri": "https://localhost:8080/"
        },
        "id": "9Y-NEzJ0vfag",
        "outputId": "d1fdb006-62b6-4cf0-e5c5-17aac9e55b24"
      },
      "source": [
        " !wget https://www.dropbox.com/s/pdhwlpi2yeie0ol/movie-reviews-dataset.zip"
      ],
      "execution_count": 21,
      "outputs": [
        {
          "output_type": "stream",
          "name": "stdout",
          "text": [
            "--2021-10-02 16:33:06--  https://www.dropbox.com/s/pdhwlpi2yeie0ol/movie-reviews-dataset.zip\n",
            "Resolving www.dropbox.com (www.dropbox.com)... 162.125.5.18, 2620:100:601d:18::a27d:512\n",
            "Connecting to www.dropbox.com (www.dropbox.com)|162.125.5.18|:443... connected.\n",
            "HTTP request sent, awaiting response... 301 Moved Permanently\n",
            "Location: /s/raw/pdhwlpi2yeie0ol/movie-reviews-dataset.zip [following]\n",
            "--2021-10-02 16:33:07--  https://www.dropbox.com/s/raw/pdhwlpi2yeie0ol/movie-reviews-dataset.zip\n",
            "Reusing existing connection to www.dropbox.com:443.\n",
            "HTTP request sent, awaiting response... 302 Found\n",
            "Location: https://uc3edfae60241cdb2109b4204389.dl.dropboxusercontent.com/cd/0/inline/BXT0rSaj79r_lrVjcuX5lC6x8x_963b7aExxd1gvpvIl_imUZEEiPxswmLUKPEfMfAgTkfaUdMDUEV265MSHL3LMq0s8YU8dsdoSNMpg1ybRCLbuQXnaPbKQExnU1yVWMFWABamDdJOf0nXcBV2I58-p/file# [following]\n",
            "--2021-10-02 16:33:07--  https://uc3edfae60241cdb2109b4204389.dl.dropboxusercontent.com/cd/0/inline/BXT0rSaj79r_lrVjcuX5lC6x8x_963b7aExxd1gvpvIl_imUZEEiPxswmLUKPEfMfAgTkfaUdMDUEV265MSHL3LMq0s8YU8dsdoSNMpg1ybRCLbuQXnaPbKQExnU1yVWMFWABamDdJOf0nXcBV2I58-p/file\n",
            "Resolving uc3edfae60241cdb2109b4204389.dl.dropboxusercontent.com (uc3edfae60241cdb2109b4204389.dl.dropboxusercontent.com)... 162.125.5.15, 2620:100:601d:15::a27d:50f\n",
            "Connecting to uc3edfae60241cdb2109b4204389.dl.dropboxusercontent.com (uc3edfae60241cdb2109b4204389.dl.dropboxusercontent.com)|162.125.5.15|:443... connected.\n",
            "HTTP request sent, awaiting response... 302 Found\n",
            "Location: /cd/0/inline2/BXQpJd6HNx0ERUQdCyXiOGic2uNvecWaqySAZAnV5ErU68HSMeK6efVGJ1SbgZWbYaxzgsBmk3z-h0-F_hkieCr6YsJoJ4CnAo_po1EvVGlLn_rn4XqETtOtIk_2wsVB6NR6ZKwqVntU-0xLZ0ojwtrY0VUFRyeK8WSceBaOTUpEJq2GFW4JbKfcb0_hSZbRtua4XFxgnEdhDVnIog_kX1iaf43B6kMPEE1CVaKCFpPpt3vvBnIFiiOoqh1EfgrnIcAN4wD2i0aTt9FJbXmDX6cEWhTMj3Y293qeYOua2hzn1XgX2KDyyrTc1FzZtKv9h2t43X1m9qnpR3rxuZ7YjPbt1p7oKP7Iq71MyoNHrClILaFeQXNswkVl3tldN8NHMP8/file [following]\n",
            "--2021-10-02 16:33:07--  https://uc3edfae60241cdb2109b4204389.dl.dropboxusercontent.com/cd/0/inline2/BXQpJd6HNx0ERUQdCyXiOGic2uNvecWaqySAZAnV5ErU68HSMeK6efVGJ1SbgZWbYaxzgsBmk3z-h0-F_hkieCr6YsJoJ4CnAo_po1EvVGlLn_rn4XqETtOtIk_2wsVB6NR6ZKwqVntU-0xLZ0ojwtrY0VUFRyeK8WSceBaOTUpEJq2GFW4JbKfcb0_hSZbRtua4XFxgnEdhDVnIog_kX1iaf43B6kMPEE1CVaKCFpPpt3vvBnIFiiOoqh1EfgrnIcAN4wD2i0aTt9FJbXmDX6cEWhTMj3Y293qeYOua2hzn1XgX2KDyyrTc1FzZtKv9h2t43X1m9qnpR3rxuZ7YjPbt1p7oKP7Iq71MyoNHrClILaFeQXNswkVl3tldN8NHMP8/file\n",
            "Reusing existing connection to uc3edfae60241cdb2109b4204389.dl.dropboxusercontent.com:443.\n",
            "HTTP request sent, awaiting response... 200 OK\n",
            "Length: 62951389 (60M) [application/zip]\n",
            "Saving to: ‘movie-reviews-dataset.zip.1’\n",
            "\n",
            "movie-reviews-datas 100%[===================>]  60.03M  51.1MB/s    in 1.2s    \n",
            "\n",
            "2021-10-02 16:33:09 (51.1 MB/s) - ‘movie-reviews-dataset.zip.1’ saved [62951389/62951389]\n",
            "\n"
          ]
        }
      ]
    },
    {
      "cell_type": "code",
      "metadata": {
        "colab": {
          "base_uri": "https://localhost:8080/"
        },
        "id": "63xld1sNv3Tq",
        "outputId": "06d75a95-fc5b-49e1-8dff-431e95efff09"
      },
      "source": [
        "!unzip -d\"/content/movie-reviews-dataset.zip\""
      ],
      "execution_count": 22,
      "outputs": [
        {
          "output_type": "stream",
          "name": "stdout",
          "text": [
            "UnZip 6.00 of 20 April 2009, by Debian. Original by Info-ZIP.\n",
            "\n",
            "Usage: unzip [-Z] [-opts[modifiers]] file[.zip] [list] [-x xlist] [-d exdir]\n",
            "  Default action is to extract files in list, except those in xlist, to exdir;\n",
            "  file[.zip] may be a wildcard.  -Z => ZipInfo mode (\"unzip -Z\" for usage).\n",
            "\n",
            "  -p  extract files to pipe, no messages     -l  list files (short format)\n",
            "  -f  freshen existing files, create none    -t  test compressed archive data\n",
            "  -u  update files, create if necessary      -z  display archive comment only\n",
            "  -v  list verbosely/show version info       -T  timestamp archive to latest\n",
            "  -x  exclude files that follow (in xlist)   -d  extract files into exdir\n",
            "modifiers:\n",
            "  -n  never overwrite existing files         -q  quiet mode (-qq => quieter)\n",
            "  -o  overwrite files WITHOUT prompting      -a  auto-convert any text files\n",
            "  -j  junk paths (do not make directories)   -aa treat ALL files as text\n",
            "  -U  use escapes for all non-ASCII Unicode  -UU ignore any Unicode fields\n",
            "  -C  match filenames case-insensitively     -L  make (some) names lowercase\n",
            "  -X  restore UID/GID info                   -V  retain VMS version numbers\n",
            "  -K  keep setuid/setgid/tacky permissions   -M  pipe through \"more\" pager\n",
            "  -O CHARSET  specify a character encoding for DOS, Windows and OS/2 archives\n",
            "  -I CHARSET  specify a character encoding for UNIX and other archives\n",
            "\n",
            "See \"unzip -hh\" or unzip.txt for more help.  Examples:\n",
            "  unzip data1 -x joe   => extract all files except joe from zipfile data1.zip\n",
            "  unzip -p foo | more  => send contents of foo.zip via pipe into program more\n",
            "  unzip -fo foo ReadMe => quietly replace existing ReadMe if archive file newer\n"
          ]
        }
      ]
    },
    {
      "cell_type": "code",
      "metadata": {
        "id": "KGP1lDpI2qky"
      },
      "source": [
        "\n"
      ],
      "execution_count": null,
      "outputs": []
    },
    {
      "cell_type": "code",
      "metadata": {
        "colab": {
          "base_uri": "https://localhost:8080/"
        },
        "id": "LuVdYU-qwF6V",
        "outputId": "e1cb7499-a93a-41ed-f0ab-0f35f90119b1"
      },
      "source": [
        "!unzip -q \"/content/movie-reviews-dataset.zip\""
      ],
      "execution_count": 23,
      "outputs": [
        {
          "output_type": "stream",
          "name": "stdout",
          "text": [
            "replace movie-reviews-dataset/.DS_Store? [y]es, [n]o, [A]ll, [N]one, [r]ename: y\n",
            "replace __MACOSX/movie-reviews-dataset/._.DS_Store? [y]es, [n]o, [A]ll, [N]one, [r]ename: a\n",
            "error:  invalid response [a]\n",
            "replace __MACOSX/movie-reviews-dataset/._.DS_Store? [y]es, [n]o, [A]ll, [N]one, [r]ename: A\n"
          ]
        }
      ]
    },
    {
      "cell_type": "code",
      "metadata": {
        "id": "5_2KYnrkwRu5"
      },
      "source": [
        "from tensorflow.keras.preprocessing import text_dataset_from_directory\n",
        "from tensorflow.strings import regex_replace\n",
        "from tensorflow.keras.layers.experimental.preprocessing import TextVectorization\n",
        "from tensorflow.keras.models import Sequential\n",
        "from tensorflow.keras import Input\n",
        "from tensorflow.keras.layers import Dense,RNN,SimpleRNNCell,Embedding,Dropout"
      ],
      "execution_count": 24,
      "outputs": []
    },
    {
      "cell_type": "code",
      "metadata": {
        "id": "ti1ca38txtyV"
      },
      "source": [
        "def prepdata(dir):\n",
        "  data = text_dataset_from_directory(dir)\n",
        "  return data.map(lambda text,label:(regex_replace(text,'<br />',''),label),)"
      ],
      "execution_count": 26,
      "outputs": []
    },
    {
      "cell_type": "code",
      "metadata": {
        "colab": {
          "base_uri": "https://localhost:8080/"
        },
        "id": "dSNYw1zOyY94",
        "outputId": "9678df38-d43e-498b-fc8b-cfcbab627869"
      },
      "source": [
        "testdata = prepdata('/content/movie-reviews-dataset/test')\n",
        "traindata = prepdata('/content/movie-reviews-dataset/train')"
      ],
      "execution_count": 25,
      "outputs": [
        {
          "output_type": "stream",
          "name": "stdout",
          "text": [
            "Found 25000 files belonging to 2 classes.\n",
            "Found 25000 files belonging to 2 classes.\n"
          ]
        }
      ]
    },
    {
      "cell_type": "code",
      "metadata": {
        "colab": {
          "base_uri": "https://localhost:8080/"
        },
        "id": "6fJEFwCwy2sI",
        "outputId": "f665d870-685e-4010-dfc1-fabe7329bda1"
      },
      "source": [
        "for text_batch,label_batch in traindata.take(1):\n",
        "  print(text_batch.numpy()[2])\n",
        "  print(label_batch.numpy()[2])"
      ],
      "execution_count": 27,
      "outputs": [
        {
          "output_type": "stream",
          "name": "stdout",
          "text": [
            "b\"A good film with strong performances (especially the two leads). The film is about two American girls who are caught with 6 kilo's heroin on an airport in Thailand. They're both thrown in prison and one of them signs a confession. Bill Pullman plays the lawyer who tries to get them out. All they have to do is find a Nick Parks who put the narcotics in the bag of one of the two girls. So far for the story which isn't that original (it has many resemblances with the better Return to Paradise).The acting and Newton Thomas Sigel's beautiful photography make this film worth to watch. A 7 out of 10.\"\n",
            "1\n"
          ]
        }
      ]
    },
    {
      "cell_type": "code",
      "metadata": {
        "id": "7vA85vpizQ3a"
      },
      "source": [
        "model = Sequential()"
      ],
      "execution_count": 28,
      "outputs": []
    },
    {
      "cell_type": "code",
      "metadata": {
        "id": "G39ZNuWE0EM3"
      },
      "source": [
        "model.add(Input(shape=(1,),dtype=\"string\"))"
      ],
      "execution_count": 29,
      "outputs": []
    },
    {
      "cell_type": "code",
      "metadata": {
        "id": "oPxKNaP10QBJ"
      },
      "source": [
        "max_tokens = 1500\n",
        "max_len = 80\n",
        "vectorize_layer = TextVectorization(\n",
        "    max_tokens = max_tokens,\n",
        "    output_mode = \"int\",\n",
        "    output_sequence_length = max_len,\n",
        ")"
      ],
      "execution_count": 30,
      "outputs": []
    },
    {
      "cell_type": "code",
      "metadata": {
        "id": "lI10eX_50oXg"
      },
      "source": [
        "train_texts = traindata.map(lambda text , label :text)\n",
        "vectorize_layer.adapt(train_texts)\n",
        "model.add(vectorize_layer)"
      ],
      "execution_count": 31,
      "outputs": []
    },
    {
      "cell_type": "code",
      "metadata": {
        "id": "FclRp3FQ1KVS"
      },
      "source": [
        "model.add(Embedding(max_tokens+1,128))\n",
        "\n",
        "\n",
        "rnn = RNN(SimpleRNNCell(64),return_sequences=False,return_state=False)\n",
        "model.add(rnn)\n",
        "model.add(Dense(64,activation = \"relu\"))\n",
        "model.add(Dense(1,activation = \"sigmoid\"))"
      ],
      "execution_count": 32,
      "outputs": []
    },
    {
      "cell_type": "code",
      "metadata": {
        "id": "26Pi0xyb1mVC"
      },
      "source": [
        "model.compile(loss=\"binary_crossentropy\",optimizer = \"adam\")"
      ],
      "execution_count": 33,
      "outputs": []
    },
    {
      "cell_type": "code",
      "metadata": {
        "colab": {
          "base_uri": "https://localhost:8080/"
        },
        "id": "bKlDilYQ3Lup",
        "outputId": "2d8bff6f-6a8b-4974-b073-4f218f29c506"
      },
      "source": [
        "model.fit(traindata,epochs=9)"
      ],
      "execution_count": 34,
      "outputs": [
        {
          "output_type": "stream",
          "name": "stdout",
          "text": [
            "Epoch 1/9\n",
            "782/782 [==============================] - 28s 35ms/step - loss: 0.6860\n",
            "Epoch 2/9\n",
            "782/782 [==============================] - 27s 35ms/step - loss: 0.6486\n",
            "Epoch 3/9\n",
            "782/782 [==============================] - 27s 35ms/step - loss: 0.6572\n",
            "Epoch 4/9\n",
            "782/782 [==============================] - 27s 35ms/step - loss: 0.6676\n",
            "Epoch 5/9\n",
            "782/782 [==============================] - 27s 35ms/step - loss: 0.6505\n",
            "Epoch 6/9\n",
            "782/782 [==============================] - 27s 35ms/step - loss: 0.6540\n",
            "Epoch 7/9\n",
            "782/782 [==============================] - 27s 35ms/step - loss: 0.6180\n",
            "Epoch 8/9\n",
            "782/782 [==============================] - 27s 35ms/step - loss: 0.5721\n",
            "Epoch 9/9\n",
            "782/782 [==============================] - 27s 35ms/step - loss: 0.5505\n"
          ]
        },
        {
          "output_type": "execute_result",
          "data": {
            "text/plain": [
              "<keras.callbacks.History at 0x7f0b13ba9710>"
            ]
          },
          "metadata": {},
          "execution_count": 34
        }
      ]
    },
    {
      "cell_type": "code",
      "metadata": {
        "colab": {
          "base_uri": "https://localhost:8080/"
        },
        "id": "irOL50C93S9y",
        "outputId": "51a6972d-b9b0-4f29-a941-521a24e5f254"
      },
      "source": [
        "model.evaluate(testdata)"
      ],
      "execution_count": 35,
      "outputs": [
        {
          "output_type": "stream",
          "name": "stdout",
          "text": [
            "782/782 [==============================] - 13s 16ms/step - loss: 0.6131\n"
          ]
        },
        {
          "output_type": "execute_result",
          "data": {
            "text/plain": [
              "0.6130914092063904"
            ]
          },
          "metadata": {},
          "execution_count": 35
        }
      ]
    },
    {
      "cell_type": "code",
      "metadata": {
        "colab": {
          "base_uri": "https://localhost:8080/"
        },
        "id": "StgqrBHw4maa",
        "outputId": "46449960-7875-4c9a-ee71-8d51f5eea5d5"
      },
      "source": [
        "testdata"
      ],
      "execution_count": 40,
      "outputs": [
        {
          "output_type": "execute_result",
          "data": {
            "text/plain": [
              "<MapDataset shapes: ((None,), (None,)), types: (tf.string, tf.int32)>"
            ]
          },
          "metadata": {},
          "execution_count": 40
        }
      ]
    },
    {
      "cell_type": "code",
      "metadata": {
        "colab": {
          "base_uri": "https://localhost:8080/"
        },
        "id": "r5ZeKDNM4fAj",
        "outputId": "17c093f9-2360-4ad9-c3a9-b7c94df98b41"
      },
      "source": [
        "model.evaluate([\"this is a movie\"])"
      ],
      "execution_count": 43,
      "outputs": [
        {
          "output_type": "stream",
          "name": "stdout",
          "text": [
            "1/1 [==============================] - 0s 30ms/step - loss: 0.0000e+00\n"
          ]
        },
        {
          "output_type": "execute_result",
          "data": {
            "text/plain": [
              "0.0"
            ]
          },
          "metadata": {},
          "execution_count": 43
        }
      ]
    },
    {
      "cell_type": "code",
      "metadata": {
        "id": "vX4oI5fx4jfR"
      },
      "source": [
        ""
      ],
      "execution_count": null,
      "outputs": []
    }
  ]
}